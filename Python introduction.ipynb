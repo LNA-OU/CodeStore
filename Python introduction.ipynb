{
 "cells": [
  {
   "cell_type": "markdown",
   "metadata": {},
   "source": [
    "# Overview of Python \n",
    "\n",
    "1. Python was developed by Guido Van Rossam in 1989 while he was working at National Research Institute (Netherlands).\n",
    "2. Python was made available to public in 1991\n",
    "3. The name python for this language is derived from the TV show \"The Complete Monty Python's  Circus\" which was broadcasted in BBC from 1969 to 1974. \n",
    "\n",
    "## Why python ?\n",
    "\n",
    "Python is recommended as first programming language for beginners. \n",
    "\n",
    "Python language is developed by taking almost all programming features from different languages:\n",
    " \n",
    "1. Functional Programming Features from C \n",
    "2. Object Oriented Programming Features from C++ \n",
    "3. Scripting Language Features from Perl and Shell Script \n",
    "4. Modular Programming Features from Modula-3 \n",
    "\n",
    "\n",
    "## where can we use python ?\n",
    "\n",
    "##### python can be extensively used for developing:\n",
    "1. Web applications\n",
    "2. Network programs\n",
    "3. Desktop Applications\n",
    "4. Data Analysis and Data Science\n",
    "5. Machine Learning \n",
    "6. Artificial Intelligence\n",
    "7. Games\n",
    "8. Internet of Things.\n",
    "9. Hacking"
   ]
  },
  {
   "cell_type": "markdown",
   "metadata": {},
   "source": [
    "# Writing hello world program in C++\n",
    "\n",
    "#include <iostream>\n",
    "\n",
    "int main() {\n",
    "    std::cout << \"Hello World!\";\n",
    "    return 0;\n",
    "}"
   ]
  },
  {
   "cell_type": "markdown",
   "metadata": {},
   "source": [
    "## writing hello world program in java\n",
    "\n",
    "\n",
    "class HelloWorld \n",
    "{\n",
    "    public static void main(String[] args) \n",
    "    {\n",
    "        System.out.println(\"Hello, World!\"); \n",
    "    }\n",
    "}"
   ]
  },
  {
   "cell_type": "markdown",
   "metadata": {},
   "source": [
    "## writing hello world program in python\n",
    "\n",
    "\n",
    "print('Hello world')"
   ]
  },
  {
   "cell_type": "code",
   "execution_count": 5,
   "metadata": {},
   "outputs": [
    {
     "name": "stdout",
     "output_type": "stream",
     "text": [
      "hello world\n"
     ]
    }
   ],
   "source": [
    "print(\"hello world\")"
   ]
  },
  {
   "cell_type": "markdown",
   "metadata": {},
   "source": [
    "# Well Known Features of Python:\n",
    "\n",
    "\n",
    "### 1. Open Source and Freeware:\n",
    "\n",
    "We can use Python software without any licence and it is freeware. \n",
    " \n",
    "Its source code is open,so that we can we can customize based on our requirement. \n",
    "\n",
    "### 2. Platform Independent:\n",
    "\n",
    "Once we write a Python program,it can run on any platform without rewriting once again.\n",
    "Internally PVM is responsible to convert into machine understandable form.\n",
    "\n",
    "### 3. Simple and Easy to learn:\n",
    "Python is a simple programming language.\n",
    "When we read Python program,we can feel like reading english statements.\n",
    "The syntaxes are very simple and only 30+ kerywords are available.\n",
    "When compared with other languages, we can write programs with very less number of lines.\n",
    "Hence more readability and simplicity.\n",
    "We can reduce development and cost of the project. \n",
    "\n",
    "### 4. Dynamically Typed: \n",
    "In Python we are not required to declare type for variables. Whenever we are assigning the value, based on value, type will be allocated automatically.Hence Python is considered as dynamically typed language. \n",
    " \n",
    "But Java, C etc are Statically Typed Languages b'z we have to provide type at the beginning only. \n",
    " \n",
    "This dynamic typing nature will provide more flexibility to the programmer. \n",
    "\n",
    "### 5.  Extensive Library:\n",
    "Python has a rich inbuilt library. Being a programmer we can use this library directly and we are not responsible to implement the functionality. \n",
    " \n",
    "### 6. High Level Programming language:\n",
    "Python is high level programming language and hence it is programmer friendly language. Being a programmer we are not required to concentrate low level activities like memory management and security etc.. "
   ]
  },
  {
   "cell_type": "code",
   "execution_count": 7,
   "metadata": {},
   "outputs": [
    {
     "name": "stdout",
     "output_type": "stream",
     "text": [
      "10\n",
      "<class 'int'>\n"
     ]
    }
   ],
   "source": [
    "a = 10 \n",
    "print(a)\n",
    "print(type(a))\n"
   ]
  },
  {
   "cell_type": "code",
   "execution_count": 9,
   "metadata": {},
   "outputs": [
    {
     "name": "stdout",
     "output_type": "stream",
     "text": [
      "Hustle with zidd\n",
      "<class 'str'>\n"
     ]
    }
   ],
   "source": [
    "a= 'Hustle with zidd'\n",
    "print(a)\n",
    "print(type(a))"
   ]
  },
  {
   "cell_type": "code",
   "execution_count": null,
   "metadata": {},
   "outputs": [],
   "source": []
  }
 ],
 "metadata": {
  "kernelspec": {
   "display_name": "Python 3",
   "language": "python",
   "name": "python3"
  },
  "language_info": {
   "codemirror_mode": {
    "name": "ipython",
    "version": 3
   },
   "file_extension": ".py",
   "mimetype": "text/x-python",
   "name": "python",
   "nbconvert_exporter": "python",
   "pygments_lexer": "ipython3",
   "version": "3.7.6"
  }
 },
 "nbformat": 4,
 "nbformat_minor": 4
}
