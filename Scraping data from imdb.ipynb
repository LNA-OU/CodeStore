{
 "cells": [
  {
   "cell_type": "code",
   "execution_count": 1,
   "metadata": {},
   "outputs": [],
   "source": [
    "#importing required Libraries\n",
    "import pandas as pd   #to create dataframe\n",
    "import requests       #to send the request to the URL\n",
    "from bs4 import BeautifulSoup #to get the content in the form of HTML\n",
    "import numpy as np  # to count the values (in our case)\n",
    "\n",
    "#assigning the URL with variable name url\n",
    "url = 'https://www.imdb.com/search/title/?count=100&groups=top_1000&sort=user_rating'\n",
    "#request allow you to send HTTP request\n",
    "response = requests.get(url)\n",
    "soup = BeautifulSoup(response.content, 'html.parser')\n",
    "\n",
    "#creating an empty list, so that we can append the values\n",
    "movie_name = []\n",
    "year = []\n",
    "time = []\n",
    "rating = []\n",
    "metascore = []\n",
    "votes = []\n",
    "gross = []\n",
    "description = []\n",
    "\n",
    "#storing the meaningfull required data in the variable\n",
    "movie_data = soup.findAll('div', attrs= {'class': 'lister-item mode-advanced'})\n",
    "\n",
    "#calling one by one using for loop\n",
    "for store in movie_data:\n",
    "    name = store.h3.a.text\n",
    "    movie_name.append(name)\n",
    "    \n",
    "    year_of_release = store.h3.find('span', class_ = 'lister-item-year text-muted unbold').text.replace('(', '').replace(')', '')\n",
    "    year.append(year_of_release)\n",
    "    \n",
    "    runtime = store.p.find('span', class_ = 'runtime').text.replace(' min', '')\n",
    "    time.append(runtime)\n",
    "    \n",
    "    rate = store.find('div', class_ = 'inline-block ratings-imdb-rating').text.replace('\\n', '')\n",
    "    rating.append(rate)\n",
    "    \n",
    "    meta  = store.find('span', class_ = 'metascore').text.replace(' ', '') if store.find('span', class_ = 'metascore') else '^^^^^^'\n",
    "    metascore.append(meta)\n",
    "    #since, gross and votes have same attributes, that's why we had created a common variable and then used indexing\n",
    "    value = store.find_all('span', attrs = {'name': 'nv'})\n",
    "    \n",
    "    vote = value[0].text\n",
    "    votes.append(vote)\n",
    "    \n",
    "    grosses = value[1].text if len(value) >1 else '*****'\n",
    "    gross.append(grosses)\n",
    "    \n",
    "    describe = store.find_all('p', class_ = 'text-muted')\n",
    "    description_ = describe[1].text.replace('\\n', '') if len(describe) >1 else '*****'\n",
    "    description.append(description_)\n",
    "    \n",
    "    \n",
    "#creating a dataframe using pandas library\n",
    "movie_DF = pd.DataFrame({'Name of movie': movie_name, 'Year of relase': year, 'Watchtime': time, 'Movie Rating': rating, 'Metascore': metascore, 'Votes': votes, 'Gross collection': gross, 'Description': description})"
   ]
  },
  {
   "cell_type": "code",
   "execution_count": 3,
   "metadata": {},
   "outputs": [],
   "source": [
    "#Saving data in Excel file:\n",
    "\n",
    "movie_DF.to_excel(\"Top_100_IMDB_Movies.xlsx\")"
   ]
  },
  {
   "cell_type": "code",
   "execution_count": null,
   "metadata": {},
   "outputs": [],
   "source": []
  }
 ],
 "metadata": {
  "kernelspec": {
   "display_name": "Python 3",
   "language": "python",
   "name": "python3"
  },
  "language_info": {
   "codemirror_mode": {
    "name": "ipython",
    "version": 3
   },
   "file_extension": ".py",
   "mimetype": "text/x-python",
   "name": "python",
   "nbconvert_exporter": "python",
   "pygments_lexer": "ipython3",
   "version": "3.8.3"
  }
 },
 "nbformat": 4,
 "nbformat_minor": 4
}
