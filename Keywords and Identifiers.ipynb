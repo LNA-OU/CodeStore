{
 "cells": [
  {
   "cell_type": "markdown",
   "metadata": {},
   "source": [
    "# Keywords or Rerserved Words (Python Keywords)\n",
    "\n",
    "In Python some words are reserved to represent some meaning or functionality. Such type of words are called Reserved words or keywords.\n",
    "keywords or reserved words, can't be used as either variable name, function name, class name or any other identifier.\n",
    "\n",
    "They are used to define the syntax and structure of the Python language.\n",
    " \n",
    "There were 33 reserved words present in Python 3.6 version:\n",
    "\n",
    "\n",
    "##### True, False, None,  and,  or  , not, is,  if, elif, else,  while, for, break, continue, return, in, yield,  try, except, finally, raise, assert , import, from, as, class, def, pass, global, nonlocal, lambda, del, with\n",
    "\n",
    "later, in Python 3.7 version, two more keywords were been added with a total count of 35 keywords:\n",
    "\n",
    "##### async, await \n",
    "\n",
    "Note: Keywords are case sensitive.\n"
   ]
  },
  {
   "cell_type": "code",
   "execution_count": 3,
   "metadata": {},
   "outputs": [
    {
     "name": "stdout",
     "output_type": "stream",
     "text": [
      "['False', 'None', 'True', 'and', 'as', 'assert', 'async', 'await', 'break', 'class', 'continue', 'def', 'del', 'elif', 'else', 'except', 'finally', 'for', 'from', 'global', 'if', 'import', 'in', 'is', 'lambda', 'nonlocal', 'not', 'or', 'pass', 'raise', 'return', 'try', 'while', 'with', 'yield']\n",
      "\n",
      "\n",
      "the total number of keywords present in the python are  35\n"
     ]
    }
   ],
   "source": [
    "#list of keywords in python\n",
    "\n",
    "import keyword\n",
    "\n",
    "print(keyword.kwlist)\n",
    "\n",
    "print(\"\\n\\nthe total number of keywords present in the python are \", len(keyword.kwlist))"
   ]
  },
  {
   "cell_type": "markdown",
   "metadata": {},
   "source": [
    "# Identifier\n",
    "\n",
    "A name in Python program is called identifier. It can be class name or function name or module name or variable name. \n",
    "\n",
    "### Rules to define identifiers in Python: \n",
    " \n",
    "#### The only allowed characters in Python are:\n",
    " \n",
    "1. alphabet symbols(either lower case or upper case)\n",
    "\n",
    "2. digits(0 to 9) \n",
    "\n",
    "3. underscore symbol(_) \n",
    " \n",
    "If we try to use some special symbol for example: $ or # we will get syntax error.\n",
    "\n",
    "\n",
    "## Things to keep mind while declaring a Identifiers:\n",
    "\n",
    "1. No special symbols\n",
    "2. Identifier should not start with digit or numerical value.\n",
    "3. Since the whole python language is case sensitive, the identifiers are also case sensitive\n",
    "4. we cannot use reserved words as identifiers.\n",
    "5. Dollar $ symbol is not allowed in python.\n"
   ]
  },
  {
   "cell_type": "code",
   "execution_count": 12,
   "metadata": {},
   "outputs": [
    {
     "name": "stdout",
     "output_type": "stream",
     "text": [
      "96\n",
      "78\n"
     ]
    }
   ],
   "source": [
    "#for example if we say :\n",
    "\n",
    "\n",
    "hustle = 96           # this is valid \n",
    "\n",
    "hustle123 = 78        # this is valid\n",
    "\n",
    "\n",
    "print(hustle)\n",
    "print(hustle123)\n",
    "\n",
    "#global = 1            # this is invalid because we had used a reserved word(keyword) as a identifier:  we will get syntax error\n",
    "\n",
    "\n"
   ]
  },
  {
   "cell_type": "code",
   "execution_count": 13,
   "metadata": {},
   "outputs": [
    {
     "ename": "SyntaxError",
     "evalue": "invalid token (<ipython-input-13-4473e1d4f175>, line 1)",
     "output_type": "error",
     "traceback": [
      "\u001b[1;36m  File \u001b[1;32m\"<ipython-input-13-4473e1d4f175>\"\u001b[1;36m, line \u001b[1;32m1\u001b[0m\n\u001b[1;33m    1_hustle = 23\u001b[0m\n\u001b[1;37m     ^\u001b[0m\n\u001b[1;31mSyntaxError\u001b[0m\u001b[1;31m:\u001b[0m invalid token\n"
     ]
    }
   ],
   "source": [
    "1_hustle = 23\n",
    "print(1_hustle)"
   ]
  },
  {
   "cell_type": "code",
   "execution_count": 14,
   "metadata": {},
   "outputs": [
    {
     "ename": "SyntaxError",
     "evalue": "invalid syntax (<ipython-input-14-cbdd9bae9fb5>, line 1)",
     "output_type": "error",
     "traceback": [
      "\u001b[1;36m  File \u001b[1;32m\"<ipython-input-14-cbdd9bae9fb5>\"\u001b[1;36m, line \u001b[1;32m1\u001b[0m\n\u001b[1;33m    hustle@ = 55\u001b[0m\n\u001b[1;37m            ^\u001b[0m\n\u001b[1;31mSyntaxError\u001b[0m\u001b[1;31m:\u001b[0m invalid syntax\n"
     ]
    }
   ],
   "source": [
    "hustle@ = 55\n",
    "print(hustle@)"
   ]
  },
  {
   "cell_type": "markdown",
   "metadata": {},
   "source": [
    "### Practice Exercise:\n",
    "\n",
    "\n",
    "1.     123Hustle   -- INVALID\n",
    "\n",
    "2.     Hustle123   -- VALID\n",
    "\n",
    "3.     univ7earth  -- VALID\n",
    "\n",
    "4.     fla$h       -- INVALID\n",
    "\n",
    "5.     _tra_bc_    -- VALID \n",
    "\n",
    "6.     class       -- INVALID\n",
    "\n",
    "7.     pass        -- INVALID\n",
    " "
   ]
  },
  {
   "cell_type": "code",
   "execution_count": 1,
   "metadata": {},
   "outputs": [
    {
     "name": "stdout",
     "output_type": "stream",
     "text": [
      "10\n"
     ]
    }
   ],
   "source": [
    "abc =10 \n",
    "print(abc)\n"
   ]
  },
  {
   "cell_type": "code",
   "execution_count": 2,
   "metadata": {},
   "outputs": [
    {
     "name": "stdout",
     "output_type": "stream",
     "text": [
      "96\n"
     ]
    }
   ],
   "source": [
    "\n",
    "ABC = 96\n",
    "print(ABC)"
   ]
  },
  {
   "cell_type": "code",
   "execution_count": 3,
   "metadata": {},
   "outputs": [
    {
     "ename": "SyntaxError",
     "evalue": "invalid syntax (<ipython-input-3-ddb96f42ac35>, line 1)",
     "output_type": "error",
     "traceback": [
      "\u001b[1;36m  File \u001b[1;32m\"<ipython-input-3-ddb96f42ac35>\"\u001b[1;36m, line \u001b[1;32m1\u001b[0m\n\u001b[1;33m    123hustle = 99\u001b[0m\n\u001b[1;37m            ^\u001b[0m\n\u001b[1;31mSyntaxError\u001b[0m\u001b[1;31m:\u001b[0m invalid syntax\n"
     ]
    }
   ],
   "source": [
    "123hustle = 99\n",
    "print(123hustle)"
   ]
  },
  {
   "cell_type": "code",
   "execution_count": 4,
   "metadata": {},
   "outputs": [
    {
     "name": "stdout",
     "output_type": "stream",
     "text": [
      "987\n"
     ]
    }
   ],
   "source": [
    "hustle123 = 987\n",
    "print(hustle123)"
   ]
  },
  {
   "cell_type": "code",
   "execution_count": 5,
   "metadata": {},
   "outputs": [
    {
     "ename": "SyntaxError",
     "evalue": "invalid syntax (<ipython-input-5-2057cb15c2a1>, line 1)",
     "output_type": "error",
     "traceback": [
      "\u001b[1;36m  File \u001b[1;32m\"<ipython-input-5-2057cb15c2a1>\"\u001b[1;36m, line \u001b[1;32m1\u001b[0m\n\u001b[1;33m    hustle@ =99\u001b[0m\n\u001b[1;37m            ^\u001b[0m\n\u001b[1;31mSyntaxError\u001b[0m\u001b[1;31m:\u001b[0m invalid syntax\n"
     ]
    }
   ],
   "source": [
    "hustle@ =99\n",
    "print(hustle@)"
   ]
  },
  {
   "cell_type": "code",
   "execution_count": 6,
   "metadata": {},
   "outputs": [
    {
     "ename": "SyntaxError",
     "evalue": "can't assign to operator (<ipython-input-6-ce002a26840e>, line 1)",
     "output_type": "error",
     "traceback": [
      "\u001b[1;36m  File \u001b[1;32m\"<ipython-input-6-ce002a26840e>\"\u001b[1;36m, line \u001b[1;32m1\u001b[0m\n\u001b[1;33m    hus@tle= 988\u001b[0m\n\u001b[1;37m                ^\u001b[0m\n\u001b[1;31mSyntaxError\u001b[0m\u001b[1;31m:\u001b[0m can't assign to operator\n"
     ]
    }
   ],
   "source": [
    "hus@tle= 988\n",
    "print(hus@tle)"
   ]
  },
  {
   "cell_type": "code",
   "execution_count": 7,
   "metadata": {},
   "outputs": [
    {
     "ename": "SyntaxError",
     "evalue": "invalid syntax (<ipython-input-7-795741114f47>, line 1)",
     "output_type": "error",
     "traceback": [
      "\u001b[1;36m  File \u001b[1;32m\"<ipython-input-7-795741114f47>\"\u001b[1;36m, line \u001b[1;32m1\u001b[0m\n\u001b[1;33m    global = 1\u001b[0m\n\u001b[1;37m           ^\u001b[0m\n\u001b[1;31mSyntaxError\u001b[0m\u001b[1;31m:\u001b[0m invalid syntax\n"
     ]
    }
   ],
   "source": [
    "global = 1\n",
    "print(global)"
   ]
  },
  {
   "cell_type": "code",
   "execution_count": null,
   "metadata": {},
   "outputs": [],
   "source": []
  }
 ],
 "metadata": {
  "kernelspec": {
   "display_name": "Python 3",
   "language": "python",
   "name": "python3"
  },
  "language_info": {
   "codemirror_mode": {
    "name": "ipython",
    "version": 3
   },
   "file_extension": ".py",
   "mimetype": "text/x-python",
   "name": "python",
   "nbconvert_exporter": "python",
   "pygments_lexer": "ipython3",
   "version": "3.7.6"
  }
 },
 "nbformat": 4,
 "nbformat_minor": 4
}
