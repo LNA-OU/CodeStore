{
  "nbformat": 4,
  "nbformat_minor": 0,
  "metadata": {
    "colab": {
      "name": "Projet_stage_movies.ipynb",
      "provenance": [],
      "collapsed_sections": [],
      "include_colab_link": true
    },
    "kernelspec": {
      "name": "python3",
      "display_name": "Python 3"
    },
    "language_info": {
      "name": "python"
    }
  },
  "cells": [
    {
      "cell_type": "markdown",
      "metadata": {
        "id": "view-in-github",
        "colab_type": "text"
      },
      "source": [
        "<a href=\"https://colab.research.google.com/github/LNA-OU/CodeStore/blob/main/Projet_stage_movies.ipynb\" target=\"_parent\"><img src=\"https://colab.research.google.com/assets/colab-badge.svg\" alt=\"Open In Colab\"/></a>"
      ]
    },
    {
      "cell_type": "markdown",
      "metadata": {
        "id": "pzH85OcQUkzA"
      },
      "source": [
        "#Importation des librairies"
      ]
    },
    {
      "cell_type": "code",
      "metadata": {
        "id": "3P-zERRA8KJa"
      },
      "source": [
        "import bs4\n",
        "from requests import get \n",
        "from bs4 import BeautifulSoup\n",
        "import pandas as pd\n",
        "from time import sleep\n",
        "from random import randint\n",
        "from time import time\n",
        "from IPython import display\n",
        "from warnings import warn\n",
        "import numpy as np\n",
        "from dataclasses import replace\n",
        "import matplotlib.pyplot as plt"
      ],
      "execution_count": 14,
      "outputs": []
    },
    {
      "cell_type": "markdown",
      "metadata": {
        "id": "htXw0ZZXU4G0"
      },
      "source": [
        "#Varier les valeurs de deux paramètres de l'URL : le paramètre *release_date* et *page*\n",
        "- Créez une liste appelée *pages* et remplissez-la avec les chaînes correspondant au titre entre 51 et 201 pour chaque annnée. "
      ]
    },
    {
      "cell_type": "code",
      "metadata": {
        "id": "KdKG0qZ38NhQ"
      },
      "source": [
        "headers = {\"Accept-Language\": \"en-US, en;q=0.5\"}\n",
        "pages = [str(i) for i in range(51,201)]"
      ],
      "execution_count": 31,
      "outputs": []
    },
    {
      "cell_type": "markdown",
      "metadata": {
        "id": "tzuoJSYKVjY_"
      },
      "source": [
        "#Creation des tables afin de stocker les données"
      ]
    },
    {
      "cell_type": "code",
      "metadata": {
        "id": "0prlTdM7EyIJ"
      },
      "source": [
        "names = []\n",
        "years = []\n",
        "genres = []\n",
        "imdb_ratings = []\n",
        "metascores = []\n",
        "votes = []"
      ],
      "execution_count": 32,
      "outputs": []
    },
    {
      "cell_type": "markdown",
      "metadata": {
        "id": "yeJhaiaAdfu7"
      },
      "source": [
        "#Initialisation des variables: time et requests"
      ]
    },
    {
      "cell_type": "code",
      "metadata": {
        "id": "SaKBqsxR9M8O"
      },
      "source": [
        "start_time = time()\n",
        "requests = 0"
      ],
      "execution_count": 33,
      "outputs": []
    },
    {
      "cell_type": "markdown",
      "metadata": {
        "id": "ST4_kwIeXT7S"
      },
      "source": [
        "#Importer tous les 50 conteneurs de films à partir de chaque page"
      ]
    },
    {
      "cell_type": "code",
      "metadata": {
        "id": "qNWHOXyq-4MO",
        "colab": {
          "base_uri": "https://localhost:8080/"
        },
        "outputId": "d44a4d8b-bd37-4958-f4cf-d0cbc5f2d1b2"
      },
      "source": [
        "#for year_url in years_url:\n",
        "\n",
        "  # Pour chaque page dans l'interval 1-6\n",
        "for page in pages:\n",
        "\n",
        "      # Faire un get request\n",
        "      response = get('https://www.imdb.com/search/title?release_date=2000-01-01,2021-12-31&sort=num_votes,desc&page=' + page, headers = headers)\n",
        "\n",
        "      # Pause de boucle entre l'inteval de la 8éme page et la 15éme page\n",
        "      sleep(randint(8,15))\n",
        "\n",
        "      # Surveiller les requests\n",
        "      requests += 1\n",
        "      elapsed_time = time() - start_time\n",
        "      print('Request:{}; Frequency: {} requests/s'.format(requests, requests/elapsed_time))\n",
        "      display.clear_output(wait=True)\n",
        "      \n",
        "      # utilisez la fonction warn() du module warnings pour lancer un avertissement si le code d'état n'est pas 200\n",
        "      \n",
        "      # Lancer un avertissement pour les codes d'état non-200\n",
        "\n",
        "      if response.status_code != 200:\n",
        "          warn('Request: {}; Status code: {}'.format(requests, response.status_code))\n",
        "\n",
        "      # Rompre la boucle si le nombre de requêtes est supérieur à celui attendu\n",
        "      \n",
        "      if requests > 100:\n",
        "          warn('Number of requests was greater than expected.')\n",
        "          break\n",
        "\n",
        "      # Analyser le contenu de la demande avec BeautifulSoup\n",
        "\n",
        "      page_html = BeautifulSoup(response.text, 'html.parser')\n",
        "\n",
        "      # Sélectionnez tous les 50 conteneurs de films à partir d'une seule page\n",
        "\n",
        "      mv_containers = page_html.find_all('div', class_ = 'lister-item mode-advanced')\n",
        "      for container in mv_containers:\n",
        "\n",
        "          # Si le film a un Metascore, alors (car il y a des films n'ont pas de Metascore) :\n",
        "\n",
        "          if container.find('div', class_ = 'ratings-metascore') is not None:\n",
        "\n",
        "              # Scrape the name\n",
        "              name = container.h3.a.text\n",
        "              names.append(name)\n",
        "\n",
        "              # Scrape the year\n",
        "              year = container.h3.find('span', class_ = 'lister-item-year').text.replace('(','').replace(')','').replace('– )','').replace('I ','')\n",
        "              years.append(year)\n",
        "\n",
        "              # Scrape the genre\n",
        "              genre= container.p.find('span', class_ = 'genre').text.replace('\\n', '')\n",
        "              genres.append(genre)\n",
        "\n",
        "              # Scrape the IMDB rating\n",
        "              imdb = float(container.strong.text)\n",
        "              imdb_ratings.append(imdb)\n",
        "\n",
        "              # Scrape the Metascore\n",
        "              m_score = container.find('span', class_ = 'metascore').text\n",
        "              metascores.append(int(m_score))\n",
        "\n",
        "              # Scrape the number of votes\n",
        "              vote = container.find('span', attrs = {'name':'nv'})['data-value']\n",
        "              votes.append(int(vote))"
      ],
      "execution_count": 34,
      "outputs": [
        {
          "output_type": "stream",
          "name": "stderr",
          "text": [
            "/usr/local/lib/python3.7/dist-packages/ipykernel_launcher.py:28: UserWarning: Number of requests was greater than expected.\n"
          ]
        }
      ]
    },
    {
      "cell_type": "markdown",
      "metadata": {
        "id": "VD72I7y1Xu6s"
      },
      "source": [
        "#Creation de Dataframe"
      ]
    },
    {
      "cell_type": "code",
      "metadata": {
        "id": "CJHJPEcFD6lr"
      },
      "source": [
        "movie_ratings = pd.DataFrame({\n",
        "'movie': names,\n",
        "'year': years,\n",
        "'genre': genres,\n",
        "'imdb': imdb_ratings,\n",
        "'metascore': metascores,\n",
        "'votes': votes\n",
        "})"
      ],
      "execution_count": 35,
      "outputs": []
    },
    {
      "cell_type": "markdown",
      "metadata": {
        "id": "A-bB1HDqX4LF"
      },
      "source": [
        "#Resultats des films"
      ]
    },
    {
      "cell_type": "code",
      "metadata": {
        "id": "-DTgdWIHEDP_",
        "colab": {
          "base_uri": "https://localhost:8080/"
        },
        "outputId": "0fcfc7bb-2891-42f5-bfd1-a3aff3ad02ef"
      },
      "source": [
        "print(movie_ratings)"
      ],
      "execution_count": 36,
      "outputs": [
        {
          "output_type": "stream",
          "name": "stdout",
          "text": [
            "                                                  movie  year  \\\n",
            "0                                       The Dark Knight  2008   \n",
            "1                                             Inception  2010   \n",
            "2     The Lord of the Rings: The Fellowship of the Ring  2001   \n",
            "3         The Lord of the Rings: The Return of the King  2003   \n",
            "4                                          Interstellar  2014   \n",
            "...                                                 ...   ...   \n",
            "4495                                             Snatch  2000   \n",
            "4496                                Slumdog Millionaire  2008   \n",
            "4497                            Avengers: Age of Ultron  2015   \n",
            "4498                                   The Intouchables  2011   \n",
            "4499                                        The Martian  2015   \n",
            "\n",
            "                                      genre  imdb  metascore    votes  \n",
            "0          Action, Crime, Drama               9.0         84  2556712  \n",
            "1     Action, Adventure, Sci-Fi               8.8         74  2269530  \n",
            "2      Action, Adventure, Drama               8.8         92  1798627  \n",
            "3      Action, Adventure, Drama               9.0         94  1777343  \n",
            "4      Adventure, Drama, Sci-Fi               8.6         74  1729679  \n",
            "...                                     ...   ...        ...      ...  \n",
            "4495              Comedy, Crime               8.3         55   836662  \n",
            "4496             Drama, Romance               8.0         84   833535  \n",
            "4497  Action, Adventure, Sci-Fi               7.3         66   832696  \n",
            "4498   Biography, Comedy, Drama               8.5         57   831654  \n",
            "4499   Adventure, Drama, Sci-Fi               8.0         80   828139  \n",
            "\n",
            "[4500 rows x 6 columns]\n"
          ]
        }
      ]
    },
    {
      "cell_type": "markdown",
      "metadata": {
        "id": "BIt_Q7ZEX_1Y"
      },
      "source": [
        "#Afficher les 5 premiers films de Dataframe"
      ]
    },
    {
      "cell_type": "code",
      "metadata": {
        "colab": {
          "base_uri": "https://localhost:8080/",
          "height": 206
        },
        "id": "3u-wKQ0lYUVF",
        "outputId": "6fa7a688-a3e8-430f-bead-b39a24f2dd9b"
      },
      "source": [
        "movie_ratings = movie_ratings[['movie', 'year', 'genre', 'imdb', 'metascore', 'votes']]\n",
        "movie_ratings.head()"
      ],
      "execution_count": 37,
      "outputs": [
        {
          "output_type": "execute_result",
          "data": {
            "text/plain": [
              "                                               movie  year  \\\n",
              "0                                    The Dark Knight  2008   \n",
              "1                                          Inception  2010   \n",
              "2  The Lord of the Rings: The Fellowship of the Ring  2001   \n",
              "3      The Lord of the Rings: The Return of the King  2003   \n",
              "4                                       Interstellar  2014   \n",
              "\n",
              "                                   genre  imdb  metascore    votes  \n",
              "0       Action, Crime, Drama               9.0         84  2556712  \n",
              "1  Action, Adventure, Sci-Fi               8.8         74  2269530  \n",
              "2   Action, Adventure, Drama               8.8         92  1798627  \n",
              "3   Action, Adventure, Drama               9.0         94  1777343  \n",
              "4   Adventure, Drama, Sci-Fi               8.6         74  1729679  "
            ],
            "text/html": [
              "\n",
              "  <div id=\"df-31193d48-5ac2-41cb-b7b8-4e7bf0595f5c\">\n",
              "    <div class=\"colab-df-container\">\n",
              "      <div>\n",
              "<style scoped>\n",
              "    .dataframe tbody tr th:only-of-type {\n",
              "        vertical-align: middle;\n",
              "    }\n",
              "\n",
              "    .dataframe tbody tr th {\n",
              "        vertical-align: top;\n",
              "    }\n",
              "\n",
              "    .dataframe thead th {\n",
              "        text-align: right;\n",
              "    }\n",
              "</style>\n",
              "<table border=\"1\" class=\"dataframe\">\n",
              "  <thead>\n",
              "    <tr style=\"text-align: right;\">\n",
              "      <th></th>\n",
              "      <th>movie</th>\n",
              "      <th>year</th>\n",
              "      <th>genre</th>\n",
              "      <th>imdb</th>\n",
              "      <th>metascore</th>\n",
              "      <th>votes</th>\n",
              "    </tr>\n",
              "  </thead>\n",
              "  <tbody>\n",
              "    <tr>\n",
              "      <th>0</th>\n",
              "      <td>The Dark Knight</td>\n",
              "      <td>2008</td>\n",
              "      <td>Action, Crime, Drama</td>\n",
              "      <td>9.0</td>\n",
              "      <td>84</td>\n",
              "      <td>2556712</td>\n",
              "    </tr>\n",
              "    <tr>\n",
              "      <th>1</th>\n",
              "      <td>Inception</td>\n",
              "      <td>2010</td>\n",
              "      <td>Action, Adventure, Sci-Fi</td>\n",
              "      <td>8.8</td>\n",
              "      <td>74</td>\n",
              "      <td>2269530</td>\n",
              "    </tr>\n",
              "    <tr>\n",
              "      <th>2</th>\n",
              "      <td>The Lord of the Rings: The Fellowship of the Ring</td>\n",
              "      <td>2001</td>\n",
              "      <td>Action, Adventure, Drama</td>\n",
              "      <td>8.8</td>\n",
              "      <td>92</td>\n",
              "      <td>1798627</td>\n",
              "    </tr>\n",
              "    <tr>\n",
              "      <th>3</th>\n",
              "      <td>The Lord of the Rings: The Return of the King</td>\n",
              "      <td>2003</td>\n",
              "      <td>Action, Adventure, Drama</td>\n",
              "      <td>9.0</td>\n",
              "      <td>94</td>\n",
              "      <td>1777343</td>\n",
              "    </tr>\n",
              "    <tr>\n",
              "      <th>4</th>\n",
              "      <td>Interstellar</td>\n",
              "      <td>2014</td>\n",
              "      <td>Adventure, Drama, Sci-Fi</td>\n",
              "      <td>8.6</td>\n",
              "      <td>74</td>\n",
              "      <td>1729679</td>\n",
              "    </tr>\n",
              "  </tbody>\n",
              "</table>\n",
              "</div>\n",
              "      <button class=\"colab-df-convert\" onclick=\"convertToInteractive('df-31193d48-5ac2-41cb-b7b8-4e7bf0595f5c')\"\n",
              "              title=\"Convert this dataframe to an interactive table.\"\n",
              "              style=\"display:none;\">\n",
              "        \n",
              "  <svg xmlns=\"http://www.w3.org/2000/svg\" height=\"24px\"viewBox=\"0 0 24 24\"\n",
              "       width=\"24px\">\n",
              "    <path d=\"M0 0h24v24H0V0z\" fill=\"none\"/>\n",
              "    <path d=\"M18.56 5.44l.94 2.06.94-2.06 2.06-.94-2.06-.94-.94-2.06-.94 2.06-2.06.94zm-11 1L8.5 8.5l.94-2.06 2.06-.94-2.06-.94L8.5 2.5l-.94 2.06-2.06.94zm10 10l.94 2.06.94-2.06 2.06-.94-2.06-.94-.94-2.06-.94 2.06-2.06.94z\"/><path d=\"M17.41 7.96l-1.37-1.37c-.4-.4-.92-.59-1.43-.59-.52 0-1.04.2-1.43.59L10.3 9.45l-7.72 7.72c-.78.78-.78 2.05 0 2.83L4 21.41c.39.39.9.59 1.41.59.51 0 1.02-.2 1.41-.59l7.78-7.78 2.81-2.81c.8-.78.8-2.07 0-2.86zM5.41 20L4 18.59l7.72-7.72 1.47 1.35L5.41 20z\"/>\n",
              "  </svg>\n",
              "      </button>\n",
              "      \n",
              "  <style>\n",
              "    .colab-df-container {\n",
              "      display:flex;\n",
              "      flex-wrap:wrap;\n",
              "      gap: 12px;\n",
              "    }\n",
              "\n",
              "    .colab-df-convert {\n",
              "      background-color: #E8F0FE;\n",
              "      border: none;\n",
              "      border-radius: 50%;\n",
              "      cursor: pointer;\n",
              "      display: none;\n",
              "      fill: #1967D2;\n",
              "      height: 32px;\n",
              "      padding: 0 0 0 0;\n",
              "      width: 32px;\n",
              "    }\n",
              "\n",
              "    .colab-df-convert:hover {\n",
              "      background-color: #E2EBFA;\n",
              "      box-shadow: 0px 1px 2px rgba(60, 64, 67, 0.3), 0px 1px 3px 1px rgba(60, 64, 67, 0.15);\n",
              "      fill: #174EA6;\n",
              "    }\n",
              "\n",
              "    [theme=dark] .colab-df-convert {\n",
              "      background-color: #3B4455;\n",
              "      fill: #D2E3FC;\n",
              "    }\n",
              "\n",
              "    [theme=dark] .colab-df-convert:hover {\n",
              "      background-color: #434B5C;\n",
              "      box-shadow: 0px 1px 3px 1px rgba(0, 0, 0, 0.15);\n",
              "      filter: drop-shadow(0px 1px 2px rgba(0, 0, 0, 0.3));\n",
              "      fill: #FFFFFF;\n",
              "    }\n",
              "  </style>\n",
              "\n",
              "      <script>\n",
              "        const buttonEl =\n",
              "          document.querySelector('#df-31193d48-5ac2-41cb-b7b8-4e7bf0595f5c button.colab-df-convert');\n",
              "        buttonEl.style.display =\n",
              "          google.colab.kernel.accessAllowed ? 'block' : 'none';\n",
              "\n",
              "        async function convertToInteractive(key) {\n",
              "          const element = document.querySelector('#df-31193d48-5ac2-41cb-b7b8-4e7bf0595f5c');\n",
              "          const dataTable =\n",
              "            await google.colab.kernel.invokeFunction('convertToInteractive',\n",
              "                                                     [key], {});\n",
              "          if (!dataTable) return;\n",
              "\n",
              "          const docLinkHtml = 'Like what you see? Visit the ' +\n",
              "            '<a target=\"_blank\" href=https://colab.research.google.com/notebooks/data_table.ipynb>data table notebook</a>'\n",
              "            + ' to learn more about interactive tables.';\n",
              "          element.innerHTML = '';\n",
              "          dataTable['output_type'] = 'display_data';\n",
              "          await google.colab.output.renderOutput(dataTable, element);\n",
              "          const docLink = document.createElement('div');\n",
              "          docLink.innerHTML = docLinkHtml;\n",
              "          element.appendChild(docLink);\n",
              "        }\n",
              "      </script>\n",
              "    </div>\n",
              "  </div>\n",
              "  "
            ]
          },
          "metadata": {},
          "execution_count": 37
        }
      ]
    },
    {
      "cell_type": "markdown",
      "metadata": {
        "id": "nIpAj09haWaW"
      },
      "source": [
        "#Vérifier les valeurs minimales et maximales de chaque type de notation"
      ]
    },
    {
      "cell_type": "code",
      "metadata": {
        "colab": {
          "base_uri": "https://localhost:8080/",
          "height": 112
        },
        "id": "IjOTEGTEeq7h",
        "outputId": "e7a25bd3-dc4f-48c3-8888-780e039f9a18"
      },
      "source": [
        "movie_ratings.describe().loc[['min', 'max'], ['imdb', 'metascore']]"
      ],
      "execution_count": 38,
      "outputs": [
        {
          "output_type": "execute_result",
          "data": {
            "text/plain": [
              "     imdb  metascore\n",
              "min   7.2       55.0\n",
              "max   9.0       95.0"
            ],
            "text/html": [
              "\n",
              "  <div id=\"df-55e8e046-7280-4109-b75d-62914be81802\">\n",
              "    <div class=\"colab-df-container\">\n",
              "      <div>\n",
              "<style scoped>\n",
              "    .dataframe tbody tr th:only-of-type {\n",
              "        vertical-align: middle;\n",
              "    }\n",
              "\n",
              "    .dataframe tbody tr th {\n",
              "        vertical-align: top;\n",
              "    }\n",
              "\n",
              "    .dataframe thead th {\n",
              "        text-align: right;\n",
              "    }\n",
              "</style>\n",
              "<table border=\"1\" class=\"dataframe\">\n",
              "  <thead>\n",
              "    <tr style=\"text-align: right;\">\n",
              "      <th></th>\n",
              "      <th>imdb</th>\n",
              "      <th>metascore</th>\n",
              "    </tr>\n",
              "  </thead>\n",
              "  <tbody>\n",
              "    <tr>\n",
              "      <th>min</th>\n",
              "      <td>7.2</td>\n",
              "      <td>55.0</td>\n",
              "    </tr>\n",
              "    <tr>\n",
              "      <th>max</th>\n",
              "      <td>9.0</td>\n",
              "      <td>95.0</td>\n",
              "    </tr>\n",
              "  </tbody>\n",
              "</table>\n",
              "</div>\n",
              "      <button class=\"colab-df-convert\" onclick=\"convertToInteractive('df-55e8e046-7280-4109-b75d-62914be81802')\"\n",
              "              title=\"Convert this dataframe to an interactive table.\"\n",
              "              style=\"display:none;\">\n",
              "        \n",
              "  <svg xmlns=\"http://www.w3.org/2000/svg\" height=\"24px\"viewBox=\"0 0 24 24\"\n",
              "       width=\"24px\">\n",
              "    <path d=\"M0 0h24v24H0V0z\" fill=\"none\"/>\n",
              "    <path d=\"M18.56 5.44l.94 2.06.94-2.06 2.06-.94-2.06-.94-.94-2.06-.94 2.06-2.06.94zm-11 1L8.5 8.5l.94-2.06 2.06-.94-2.06-.94L8.5 2.5l-.94 2.06-2.06.94zm10 10l.94 2.06.94-2.06 2.06-.94-2.06-.94-.94-2.06-.94 2.06-2.06.94z\"/><path d=\"M17.41 7.96l-1.37-1.37c-.4-.4-.92-.59-1.43-.59-.52 0-1.04.2-1.43.59L10.3 9.45l-7.72 7.72c-.78.78-.78 2.05 0 2.83L4 21.41c.39.39.9.59 1.41.59.51 0 1.02-.2 1.41-.59l7.78-7.78 2.81-2.81c.8-.78.8-2.07 0-2.86zM5.41 20L4 18.59l7.72-7.72 1.47 1.35L5.41 20z\"/>\n",
              "  </svg>\n",
              "      </button>\n",
              "      \n",
              "  <style>\n",
              "    .colab-df-container {\n",
              "      display:flex;\n",
              "      flex-wrap:wrap;\n",
              "      gap: 12px;\n",
              "    }\n",
              "\n",
              "    .colab-df-convert {\n",
              "      background-color: #E8F0FE;\n",
              "      border: none;\n",
              "      border-radius: 50%;\n",
              "      cursor: pointer;\n",
              "      display: none;\n",
              "      fill: #1967D2;\n",
              "      height: 32px;\n",
              "      padding: 0 0 0 0;\n",
              "      width: 32px;\n",
              "    }\n",
              "\n",
              "    .colab-df-convert:hover {\n",
              "      background-color: #E2EBFA;\n",
              "      box-shadow: 0px 1px 2px rgba(60, 64, 67, 0.3), 0px 1px 3px 1px rgba(60, 64, 67, 0.15);\n",
              "      fill: #174EA6;\n",
              "    }\n",
              "\n",
              "    [theme=dark] .colab-df-convert {\n",
              "      background-color: #3B4455;\n",
              "      fill: #D2E3FC;\n",
              "    }\n",
              "\n",
              "    [theme=dark] .colab-df-convert:hover {\n",
              "      background-color: #434B5C;\n",
              "      box-shadow: 0px 1px 3px 1px rgba(0, 0, 0, 0.15);\n",
              "      filter: drop-shadow(0px 1px 2px rgba(0, 0, 0, 0.3));\n",
              "      fill: #FFFFFF;\n",
              "    }\n",
              "  </style>\n",
              "\n",
              "      <script>\n",
              "        const buttonEl =\n",
              "          document.querySelector('#df-55e8e046-7280-4109-b75d-62914be81802 button.colab-df-convert');\n",
              "        buttonEl.style.display =\n",
              "          google.colab.kernel.accessAllowed ? 'block' : 'none';\n",
              "\n",
              "        async function convertToInteractive(key) {\n",
              "          const element = document.querySelector('#df-55e8e046-7280-4109-b75d-62914be81802');\n",
              "          const dataTable =\n",
              "            await google.colab.kernel.invokeFunction('convertToInteractive',\n",
              "                                                     [key], {});\n",
              "          if (!dataTable) return;\n",
              "\n",
              "          const docLinkHtml = 'Like what you see? Visit the ' +\n",
              "            '<a target=\"_blank\" href=https://colab.research.google.com/notebooks/data_table.ipynb>data table notebook</a>'\n",
              "            + ' to learn more about interactive tables.';\n",
              "          element.innerHTML = '';\n",
              "          dataTable['output_type'] = 'display_data';\n",
              "          await google.colab.output.renderOutput(dataTable, element);\n",
              "          const docLink = document.createElement('div');\n",
              "          docLink.innerHTML = docLinkHtml;\n",
              "          element.appendChild(docLink);\n",
              "        }\n",
              "      </script>\n",
              "    </div>\n",
              "  </div>\n",
              "  "
            ]
          },
          "metadata": {},
          "execution_count": 38
        }
      ]
    },
    {
      "cell_type": "markdown",
      "metadata": {
        "id": "8IgWJsKEa43y"
      },
      "source": [
        "#Multiplier chaque note IMDB par 10\n",
        "A partir des valeurs ci-dessus, les deux évaluations ont des échelles différentes. Pour pouvoir tracer les deux distributions sur un même graphe, il va falloir les ramener à la même échelle. Normalisons la colonne imdb sur une échelle de 100 points."
      ]
    },
    {
      "cell_type": "code",
      "metadata": {
        "colab": {
          "base_uri": "https://localhost:8080/",
          "height": 143
        },
        "id": "d7gZONRtffZn",
        "outputId": "ddf1bbb3-bdfe-4fa7-c4a2-cb354af64da0"
      },
      "source": [
        "movie_ratings['n_imdb'] = movie_ratings['imdb'] * 10\n",
        "movie_ratings.head(3)"
      ],
      "execution_count": 39,
      "outputs": [
        {
          "output_type": "execute_result",
          "data": {
            "text/plain": [
              "                                               movie  year  \\\n",
              "0                                    The Dark Knight  2008   \n",
              "1                                          Inception  2010   \n",
              "2  The Lord of the Rings: The Fellowship of the Ring  2001   \n",
              "\n",
              "                                   genre  imdb  metascore    votes  n_imdb  \n",
              "0       Action, Crime, Drama               9.0         84  2556712    90.0  \n",
              "1  Action, Adventure, Sci-Fi               8.8         74  2269530    88.0  \n",
              "2   Action, Adventure, Drama               8.8         92  1798627    88.0  "
            ],
            "text/html": [
              "\n",
              "  <div id=\"df-8d4fccc6-e6eb-4a59-a2e9-c5d55ae6565f\">\n",
              "    <div class=\"colab-df-container\">\n",
              "      <div>\n",
              "<style scoped>\n",
              "    .dataframe tbody tr th:only-of-type {\n",
              "        vertical-align: middle;\n",
              "    }\n",
              "\n",
              "    .dataframe tbody tr th {\n",
              "        vertical-align: top;\n",
              "    }\n",
              "\n",
              "    .dataframe thead th {\n",
              "        text-align: right;\n",
              "    }\n",
              "</style>\n",
              "<table border=\"1\" class=\"dataframe\">\n",
              "  <thead>\n",
              "    <tr style=\"text-align: right;\">\n",
              "      <th></th>\n",
              "      <th>movie</th>\n",
              "      <th>year</th>\n",
              "      <th>genre</th>\n",
              "      <th>imdb</th>\n",
              "      <th>metascore</th>\n",
              "      <th>votes</th>\n",
              "      <th>n_imdb</th>\n",
              "    </tr>\n",
              "  </thead>\n",
              "  <tbody>\n",
              "    <tr>\n",
              "      <th>0</th>\n",
              "      <td>The Dark Knight</td>\n",
              "      <td>2008</td>\n",
              "      <td>Action, Crime, Drama</td>\n",
              "      <td>9.0</td>\n",
              "      <td>84</td>\n",
              "      <td>2556712</td>\n",
              "      <td>90.0</td>\n",
              "    </tr>\n",
              "    <tr>\n",
              "      <th>1</th>\n",
              "      <td>Inception</td>\n",
              "      <td>2010</td>\n",
              "      <td>Action, Adventure, Sci-Fi</td>\n",
              "      <td>8.8</td>\n",
              "      <td>74</td>\n",
              "      <td>2269530</td>\n",
              "      <td>88.0</td>\n",
              "    </tr>\n",
              "    <tr>\n",
              "      <th>2</th>\n",
              "      <td>The Lord of the Rings: The Fellowship of the Ring</td>\n",
              "      <td>2001</td>\n",
              "      <td>Action, Adventure, Drama</td>\n",
              "      <td>8.8</td>\n",
              "      <td>92</td>\n",
              "      <td>1798627</td>\n",
              "      <td>88.0</td>\n",
              "    </tr>\n",
              "  </tbody>\n",
              "</table>\n",
              "</div>\n",
              "      <button class=\"colab-df-convert\" onclick=\"convertToInteractive('df-8d4fccc6-e6eb-4a59-a2e9-c5d55ae6565f')\"\n",
              "              title=\"Convert this dataframe to an interactive table.\"\n",
              "              style=\"display:none;\">\n",
              "        \n",
              "  <svg xmlns=\"http://www.w3.org/2000/svg\" height=\"24px\"viewBox=\"0 0 24 24\"\n",
              "       width=\"24px\">\n",
              "    <path d=\"M0 0h24v24H0V0z\" fill=\"none\"/>\n",
              "    <path d=\"M18.56 5.44l.94 2.06.94-2.06 2.06-.94-2.06-.94-.94-2.06-.94 2.06-2.06.94zm-11 1L8.5 8.5l.94-2.06 2.06-.94-2.06-.94L8.5 2.5l-.94 2.06-2.06.94zm10 10l.94 2.06.94-2.06 2.06-.94-2.06-.94-.94-2.06-.94 2.06-2.06.94z\"/><path d=\"M17.41 7.96l-1.37-1.37c-.4-.4-.92-.59-1.43-.59-.52 0-1.04.2-1.43.59L10.3 9.45l-7.72 7.72c-.78.78-.78 2.05 0 2.83L4 21.41c.39.39.9.59 1.41.59.51 0 1.02-.2 1.41-.59l7.78-7.78 2.81-2.81c.8-.78.8-2.07 0-2.86zM5.41 20L4 18.59l7.72-7.72 1.47 1.35L5.41 20z\"/>\n",
              "  </svg>\n",
              "      </button>\n",
              "      \n",
              "  <style>\n",
              "    .colab-df-container {\n",
              "      display:flex;\n",
              "      flex-wrap:wrap;\n",
              "      gap: 12px;\n",
              "    }\n",
              "\n",
              "    .colab-df-convert {\n",
              "      background-color: #E8F0FE;\n",
              "      border: none;\n",
              "      border-radius: 50%;\n",
              "      cursor: pointer;\n",
              "      display: none;\n",
              "      fill: #1967D2;\n",
              "      height: 32px;\n",
              "      padding: 0 0 0 0;\n",
              "      width: 32px;\n",
              "    }\n",
              "\n",
              "    .colab-df-convert:hover {\n",
              "      background-color: #E2EBFA;\n",
              "      box-shadow: 0px 1px 2px rgba(60, 64, 67, 0.3), 0px 1px 3px 1px rgba(60, 64, 67, 0.15);\n",
              "      fill: #174EA6;\n",
              "    }\n",
              "\n",
              "    [theme=dark] .colab-df-convert {\n",
              "      background-color: #3B4455;\n",
              "      fill: #D2E3FC;\n",
              "    }\n",
              "\n",
              "    [theme=dark] .colab-df-convert:hover {\n",
              "      background-color: #434B5C;\n",
              "      box-shadow: 0px 1px 3px 1px rgba(0, 0, 0, 0.15);\n",
              "      filter: drop-shadow(0px 1px 2px rgba(0, 0, 0, 0.3));\n",
              "      fill: #FFFFFF;\n",
              "    }\n",
              "  </style>\n",
              "\n",
              "      <script>\n",
              "        const buttonEl =\n",
              "          document.querySelector('#df-8d4fccc6-e6eb-4a59-a2e9-c5d55ae6565f button.colab-df-convert');\n",
              "        buttonEl.style.display =\n",
              "          google.colab.kernel.accessAllowed ? 'block' : 'none';\n",
              "\n",
              "        async function convertToInteractive(key) {\n",
              "          const element = document.querySelector('#df-8d4fccc6-e6eb-4a59-a2e9-c5d55ae6565f');\n",
              "          const dataTable =\n",
              "            await google.colab.kernel.invokeFunction('convertToInteractive',\n",
              "                                                     [key], {});\n",
              "          if (!dataTable) return;\n",
              "\n",
              "          const docLinkHtml = 'Like what you see? Visit the ' +\n",
              "            '<a target=\"_blank\" href=https://colab.research.google.com/notebooks/data_table.ipynb>data table notebook</a>'\n",
              "            + ' to learn more about interactive tables.';\n",
              "          element.innerHTML = '';\n",
              "          dataTable['output_type'] = 'display_data';\n",
              "          await google.colab.output.renderOutput(dataTable, element);\n",
              "          const docLink = document.createElement('div');\n",
              "          docLink.innerHTML = docLinkHtml;\n",
              "          element.appendChild(docLink);\n",
              "        }\n",
              "      </script>\n",
              "    </div>\n",
              "  </div>\n",
              "  "
            ]
          },
          "metadata": {},
          "execution_count": 39
        }
      ]
    },
    {
      "cell_type": "markdown",
      "metadata": {
        "id": "kWlPjdeMbZPB"
      },
      "source": [
        "#Enregistrer l'ensemble de données sous fichier csv"
      ]
    },
    {
      "cell_type": "code",
      "metadata": {
        "id": "W945cOOAf9xG"
      },
      "source": [
        "movie_ratings.to_csv('movie_ratings.csv', sep=\";\")"
      ],
      "execution_count": 40,
      "outputs": []
    },
    {
      "cell_type": "markdown",
      "metadata": {
        "id": "FjgyTivJbvwt"
      },
      "source": [
        "#Tracer et analyser les distributions\n",
        "Dans la cellule de code suivante, nous :\n",
        "\n",
        "Importez le sous-module matplotlib.pyplot.\n",
        "- Exécutez Jupyter magic *%matplotlib* pour activer le mode matplotlib de Jupyter et ajoutez en ligne pour que nos graphiques s'affichent dans le cahier.\n",
        "- Créez un objet figure avec 3 axes.\n",
        "- Tracez la distribution de chaque note non normalisée sur un axe individuel.\n",
        "- Tracez les distributions normalisées des deux cotes sur le même axe.\n",
        "- Cachez les épines supérieure et droite des trois axes."
      ]
    },
    {
      "cell_type": "code",
      "metadata": {
        "colab": {
          "base_uri": "https://localhost:8080/",
          "height": 298
        },
        "id": "CmpN8iczlJJi",
        "outputId": "9930182e-790f-4fb7-a30a-5a044c332611"
      },
      "source": [
        "fig, axes = plt.subplots(nrows = 1, ncols = 3, figsize = (16,4))\n",
        "ax1, ax2, ax3 = fig.axes\n",
        "ax1.hist(movie_ratings['imdb'], bins = 10, range = (0,10)) # bin range = 1\n",
        "ax1.set_title('IMDB rating')\n",
        "ax2.hist(movie_ratings['metascore'], bins = 10, range = (0,100)) # bin range = 10\n",
        "ax2.set_title('Metascore')\n",
        "ax3.hist(movie_ratings['n_imdb'], bins = 10, range = (0,100), histtype = 'step')\n",
        "ax3.hist(movie_ratings['metascore'], bins = 10, range = (0,100), histtype = 'step')\n",
        "ax3.legend(loc = 'upper left')\n",
        "ax3.set_title('Les deux distributions normalisées')\n",
        "for ax in fig.axes:\n",
        "    ax.spines['top'].set_visible(False)\n",
        "    ax.spines['right'].set_visible(False)\n",
        "plt.show()"
      ],
      "execution_count": 41,
      "outputs": [
        {
          "output_type": "stream",
          "name": "stderr",
          "text": [
            "No handles with labels found to put in legend.\n"
          ]
        },
        {
          "output_type": "display_data",
          "data": {
            "text/plain": [
              "<Figure size 1152x288 with 3 Axes>"
            ],
            "image/png": "[encoded data removed]"
          },
          "metadata": {
            "needs_background": "light"
          }
        }
      ]
    }
  ]
}