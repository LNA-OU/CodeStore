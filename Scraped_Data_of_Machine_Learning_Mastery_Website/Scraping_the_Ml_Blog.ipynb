{
 "cells": [
  {
   "cell_type": "code",
   "execution_count": 6,
   "metadata": {},
   "outputs": [],
   "source": [
    "#importing the required libraries\n",
    "\n",
    "import requests\n",
    "import numpy as np\n",
    "from bs4 import BeautifulSoup\n",
    "from time import sleep\n",
    "from random import randint\n",
    "\n",
    "#user agent : helps us to extract the data from the html page\n",
    "HEADERS ={\"User-Agent\": \"Mozilla/5.0 (Windows NT 10.0; Win64; x64) AppleWebKit/537.36 (KHTML, like Gecko) Chrome/84.0.4147.89 Safari/537.36\"}\n",
    "#created the empty list to store the title and description\n",
    "title = []\n",
    "description = []\n",
    "#to scrape all the 110 pages\n",
    "pages = np.arange(1,110,1)\n",
    "#for loop is used for recursive iteration for all 110 pages\n",
    "for page in pages:\n",
    "    page = requests.get(url = 'https://machinelearningmastery.com/blog/page/'+str(page)+'/', headers = HEADERS)\n",
    "    soup = BeautifulSoup(page.content, 'html.parser')\n",
    "    sleep(randint(2,8))\n",
    "    #Extracting all the titles\n",
    "    links = soup.findAll('h2', {'class': 'title entry-title'})\n",
    "    for link in links:\n",
    "        title_ = link.text\n",
    "        title.append(title_)\n",
    "    #Exctracting the all the descriptions\n",
    "    descs = soup.findAll('p')[0:10]\n",
    "    for desc in descs:\n",
    "        description_ = desc.text\n",
    "        description.append(description_)\n",
    "    \n",
    "#the upcoming challenge is to remove the unwanted data from the list "
   ]
  },
  {
   "cell_type": "code",
   "execution_count": 14,
   "metadata": {},
   "outputs": [
    {
     "name": "stdout",
     "output_type": "stream",
     "text": [
      "number of Title records : 1090\n",
      "number of Description records : 1090\n"
     ]
    }
   ],
   "source": [
    "print(f\"number of Title records : {len(title)}\")\n",
    "print(f\"number of Description records : {len(description)}\")"
   ]
  },
  {
   "cell_type": "code",
   "execution_count": 15,
   "metadata": {},
   "outputs": [],
   "source": [
    "import pandas as pd\n",
    "dataframe = pd.DataFrame({'Title': title, 'Description': description})\n",
    "dataframe.to_excel('ML_Blog_Extracted_Data.xlsx')"
   ]
  },
  {
   "cell_type": "code",
   "execution_count": 12,
   "metadata": {},
   "outputs": [
    {
     "name": "stdout",
     "output_type": "stream",
     "text": [
      "<class 'pandas.core.frame.DataFrame'>\n",
      "RangeIndex: 1090 entries, 0 to 1089\n",
      "Data columns (total 2 columns):\n",
      " #   Column       Non-Null Count  Dtype \n",
      "---  ------       --------------  ----- \n",
      " 0   Title        1090 non-null   object\n",
      " 1   Description  1090 non-null   object\n",
      "dtypes: object(2)\n",
      "memory usage: 17.2+ KB\n"
     ]
    }
   ],
   "source": [
    "dataframe.info()"
   ]
  },
  {
   "cell_type": "code",
   "execution_count": null,
   "metadata": {},
   "outputs": [],
   "source": []
  }
 ],
 "metadata": {
  "kernelspec": {
   "display_name": "Python 3",
   "language": "python",
   "name": "python3"
  },
  "language_info": {
   "codemirror_mode": {
    "name": "ipython",
    "version": 3
   },
   "file_extension": ".py",
   "mimetype": "text/x-python",
   "name": "python",
   "nbconvert_exporter": "python",
   "pygments_lexer": "ipython3",
   "version": "3.8.3"
  }
 },
 "nbformat": 4,
 "nbformat_minor": 4
}
