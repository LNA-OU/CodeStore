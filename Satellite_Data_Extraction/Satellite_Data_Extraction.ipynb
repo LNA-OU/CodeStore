{
 "cells": [
  {
   "cell_type": "markdown",
   "metadata": {},
   "source": [
    "## Satellite Data Exctraction"
   ]
  },
  {
   "cell_type": "code",
   "execution_count": 1,
   "metadata": {},
   "outputs": [
    {
     "name": "stdout",
     "output_type": "stream",
     "text": [
      "['NORAD ID: 30000 ', \"Int'l Code: 1968-081J \", 'Perigee: 35,121.9 km ', 'Apogee: 36,108.8 km ', 'Inclination: 3.2 &deg ', 'Period: 1,427.0 minutes ', 'Semi major axis: 41986 km ', 'RCS: 0.003 m2 (small) ', 'Launch date: September 26, 1968', 'Source: United States (US)\\r']\n"
     ]
    }
   ],
   "source": [
    "#import the required libraries\n",
    "import requests\n",
    "from bs4 import BeautifulSoup\n",
    "url = 'https://www.n2yo.com/satellite/?s=30000'\n",
    "request_ = requests.get(url)\n",
    "html_data = BeautifulSoup(request_.content, 'lxml')\n",
    "#extracting the HTML data, we want\n",
    "useful_information = html_data.find_all('div', attrs = {'id': 'satinfo'})\n",
    "#segregating the information\n",
    "store = useful_information[0].text.split('\\n')\n",
    "data = []\n",
    "for i in store:\n",
    "    data.append(i)\n",
    "Sat_data = data[6:16]\n",
    "print(Sat_data)"
   ]
  },
  {
   "cell_type": "code",
   "execution_count": 2,
   "metadata": {},
   "outputs": [],
   "source": [
    "#storing the data in the excel format\n",
    "import pandas as pd\n",
    "Satelite_Data = Sat_data\n",
    "df = pd.DataFrame.from_dict({'Satelite_Data':Satelite_Data})\n",
    "df.to_excel('Satelite_Data.xlsx', header=True, index=False)"
   ]
  },
  {
   "cell_type": "code",
   "execution_count": 3,
   "metadata": {},
   "outputs": [],
   "source": [
    "#storing the data in the .txt format\n",
    "Satelite_Data = Sat_data\n",
    "with open('Satelite_Data.txt', 'w') as filehandle:\n",
    "    for listitem in Satelite_Data:\n",
    "        filehandle.write('%s\\n' % listitem)"
   ]
  }
 ],
 "metadata": {
  "kernelspec": {
   "display_name": "Python 3",
   "language": "python",
   "name": "python3"
  },
  "language_info": {
   "codemirror_mode": {
    "name": "ipython",
    "version": 3
   },
   "file_extension": ".py",
   "mimetype": "text/x-python",
   "name": "python",
   "nbconvert_exporter": "python",
   "pygments_lexer": "ipython3",
   "version": "3.8.3"
  }
 },
 "nbformat": 4,
 "nbformat_minor": 4
}
